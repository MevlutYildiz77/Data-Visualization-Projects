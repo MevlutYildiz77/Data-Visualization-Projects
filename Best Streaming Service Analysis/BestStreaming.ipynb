{
 "cells": [
  {
   "cell_type": "code",
   "execution_count": 394,
   "metadata": {},
   "outputs": [],
   "source": [
    "import pandas as pd\n",
    "import numpy as np\n"
   ]
  },
  {
   "cell_type": "code",
   "execution_count": 395,
   "metadata": {},
   "outputs": [
    {
     "data": {
      "text/html": [
       "<div>\n",
       "<style scoped>\n",
       "    .dataframe tbody tr th:only-of-type {\n",
       "        vertical-align: middle;\n",
       "    }\n",
       "\n",
       "    .dataframe tbody tr th {\n",
       "        vertical-align: top;\n",
       "    }\n",
       "\n",
       "    .dataframe thead th {\n",
       "        text-align: right;\n",
       "    }\n",
       "</style>\n",
       "<table border=\"1\" class=\"dataframe\">\n",
       "  <thead>\n",
       "    <tr style=\"text-align: right;\">\n",
       "      <th></th>\n",
       "      <th>id</th>\n",
       "      <th>title</th>\n",
       "      <th>type</th>\n",
       "      <th>description</th>\n",
       "      <th>release_year</th>\n",
       "      <th>age_certification</th>\n",
       "      <th>runtime</th>\n",
       "      <th>genres</th>\n",
       "      <th>production_countries</th>\n",
       "      <th>seasons</th>\n",
       "      <th>imdb_id</th>\n",
       "      <th>imdb_score</th>\n",
       "      <th>imdb_votes</th>\n",
       "      <th>tmdb_popularity</th>\n",
       "      <th>tmdb_score</th>\n",
       "    </tr>\n",
       "  </thead>\n",
       "  <tbody>\n",
       "    <tr>\n",
       "      <th>0</th>\n",
       "      <td>tm89464</td>\n",
       "      <td>Miracle on 34th Street</td>\n",
       "      <td>MOVIE</td>\n",
       "      <td>Kris Kringle, seemingly the embodiment of Sant...</td>\n",
       "      <td>1947</td>\n",
       "      <td>G</td>\n",
       "      <td>96</td>\n",
       "      <td>['family', 'comedy', 'drama']</td>\n",
       "      <td>['US']</td>\n",
       "      <td>NaN</td>\n",
       "      <td>tt0039628</td>\n",
       "      <td>7.9</td>\n",
       "      <td>50969.0</td>\n",
       "      <td>23.515</td>\n",
       "      <td>7.388</td>\n",
       "    </tr>\n",
       "    <tr>\n",
       "      <th>1</th>\n",
       "      <td>tm61729</td>\n",
       "      <td>The Adventures of Ichabod and Mr. Toad</td>\n",
       "      <td>MOVIE</td>\n",
       "      <td>The Wind in the Willows: Concise version of Ke...</td>\n",
       "      <td>1950</td>\n",
       "      <td>G</td>\n",
       "      <td>68</td>\n",
       "      <td>['horror', 'fantasy', 'animation', 'family', '...</td>\n",
       "      <td>['US']</td>\n",
       "      <td>NaN</td>\n",
       "      <td>tt0041094</td>\n",
       "      <td>6.9</td>\n",
       "      <td>16502.0</td>\n",
       "      <td>16.194</td>\n",
       "      <td>6.500</td>\n",
       "    </tr>\n",
       "    <tr>\n",
       "      <th>2</th>\n",
       "      <td>tm61052</td>\n",
       "      <td>Cinderella</td>\n",
       "      <td>MOVIE</td>\n",
       "      <td>Cinderella has faith her dreams of a better li...</td>\n",
       "      <td>1950</td>\n",
       "      <td>G</td>\n",
       "      <td>74</td>\n",
       "      <td>['fantasy', 'animation', 'family', 'romance']</td>\n",
       "      <td>['US']</td>\n",
       "      <td>NaN</td>\n",
       "      <td>tt0042332</td>\n",
       "      <td>7.3</td>\n",
       "      <td>164292.0</td>\n",
       "      <td>93.547</td>\n",
       "      <td>7.035</td>\n",
       "    </tr>\n",
       "    <tr>\n",
       "      <th>3</th>\n",
       "      <td>tm87946</td>\n",
       "      <td>Dumbo</td>\n",
       "      <td>MOVIE</td>\n",
       "      <td>Dumbo is a baby elephant born with over-sized ...</td>\n",
       "      <td>1941</td>\n",
       "      <td>G</td>\n",
       "      <td>64</td>\n",
       "      <td>['animation', 'drama', 'family', 'fantasy']</td>\n",
       "      <td>['US']</td>\n",
       "      <td>NaN</td>\n",
       "      <td>tt0033563</td>\n",
       "      <td>7.2</td>\n",
       "      <td>135045.0</td>\n",
       "      <td>54.265</td>\n",
       "      <td>6.999</td>\n",
       "    </tr>\n",
       "    <tr>\n",
       "      <th>4</th>\n",
       "      <td>tm74391</td>\n",
       "      <td>Fantasia</td>\n",
       "      <td>MOVIE</td>\n",
       "      <td>Walt Disney's timeless masterpiece is an extra...</td>\n",
       "      <td>1941</td>\n",
       "      <td>G</td>\n",
       "      <td>119</td>\n",
       "      <td>['animation', 'family', 'fantasy', 'music']</td>\n",
       "      <td>['US']</td>\n",
       "      <td>NaN</td>\n",
       "      <td>tt0032455</td>\n",
       "      <td>7.7</td>\n",
       "      <td>98764.0</td>\n",
       "      <td>43.609</td>\n",
       "      <td>7.382</td>\n",
       "    </tr>\n",
       "  </tbody>\n",
       "</table>\n",
       "</div>"
      ],
      "text/plain": [
       "        id                                   title   type  \\\n",
       "0  tm89464                  Miracle on 34th Street  MOVIE   \n",
       "1  tm61729  The Adventures of Ichabod and Mr. Toad  MOVIE   \n",
       "2  tm61052                              Cinderella  MOVIE   \n",
       "3  tm87946                                   Dumbo  MOVIE   \n",
       "4  tm74391                                Fantasia  MOVIE   \n",
       "\n",
       "                                         description  release_year  \\\n",
       "0  Kris Kringle, seemingly the embodiment of Sant...          1947   \n",
       "1  The Wind in the Willows: Concise version of Ke...          1950   \n",
       "2  Cinderella has faith her dreams of a better li...          1950   \n",
       "3  Dumbo is a baby elephant born with over-sized ...          1941   \n",
       "4  Walt Disney's timeless masterpiece is an extra...          1941   \n",
       "\n",
       "  age_certification  runtime  \\\n",
       "0                 G       96   \n",
       "1                 G       68   \n",
       "2                 G       74   \n",
       "3                 G       64   \n",
       "4                 G      119   \n",
       "\n",
       "                                              genres production_countries  \\\n",
       "0                      ['family', 'comedy', 'drama']               ['US']   \n",
       "1  ['horror', 'fantasy', 'animation', 'family', '...               ['US']   \n",
       "2      ['fantasy', 'animation', 'family', 'romance']               ['US']   \n",
       "3        ['animation', 'drama', 'family', 'fantasy']               ['US']   \n",
       "4        ['animation', 'family', 'fantasy', 'music']               ['US']   \n",
       "\n",
       "   seasons    imdb_id  imdb_score  imdb_votes  tmdb_popularity  tmdb_score  \n",
       "0      NaN  tt0039628         7.9     50969.0           23.515       7.388  \n",
       "1      NaN  tt0041094         6.9     16502.0           16.194       6.500  \n",
       "2      NaN  tt0042332         7.3    164292.0           93.547       7.035  \n",
       "3      NaN  tt0033563         7.2    135045.0           54.265       6.999  \n",
       "4      NaN  tt0032455         7.7     98764.0           43.609       7.382  "
      ]
     },
     "execution_count": 395,
     "metadata": {},
     "output_type": "execute_result"
    }
   ],
   "source": [
    "df00 = pd.read_csv(\"titles.csv\")\n",
    "df00.head()"
   ]
  },
  {
   "cell_type": "code",
   "execution_count": 396,
   "metadata": {},
   "outputs": [
    {
     "name": "stdout",
     "output_type": "stream",
     "text": [
      "<class 'pandas.core.frame.DataFrame'>\n",
      "RangeIndex: 1854 entries, 0 to 1853\n",
      "Data columns (total 15 columns):\n",
      " #   Column                Non-Null Count  Dtype  \n",
      "---  ------                --------------  -----  \n",
      " 0   id                    1854 non-null   object \n",
      " 1   title                 1854 non-null   object \n",
      " 2   type                  1854 non-null   object \n",
      " 3   description           1845 non-null   object \n",
      " 4   release_year          1854 non-null   int64  \n",
      " 5   age_certification     1403 non-null   object \n",
      " 6   runtime               1854 non-null   int64  \n",
      " 7   genres                1854 non-null   object \n",
      " 8   production_countries  1854 non-null   object \n",
      " 9   seasons               540 non-null    float64\n",
      " 10  imdb_id               1376 non-null   object \n",
      " 11  imdb_score            1339 non-null   float64\n",
      " 12  imdb_votes            1328 non-null   float64\n",
      " 13  tmdb_popularity       1839 non-null   float64\n",
      " 14  tmdb_score            1708 non-null   float64\n",
      "dtypes: float64(5), int64(2), object(8)\n",
      "memory usage: 217.4+ KB\n"
     ]
    }
   ],
   "source": [
    "df00.info()"
   ]
  },
  {
   "cell_type": "code",
   "execution_count": 397,
   "metadata": {},
   "outputs": [
    {
     "data": {
      "text/html": [
       "<div>\n",
       "<style scoped>\n",
       "    .dataframe tbody tr th:only-of-type {\n",
       "        vertical-align: middle;\n",
       "    }\n",
       "\n",
       "    .dataframe tbody tr th {\n",
       "        vertical-align: top;\n",
       "    }\n",
       "\n",
       "    .dataframe thead th {\n",
       "        text-align: right;\n",
       "    }\n",
       "</style>\n",
       "<table border=\"1\" class=\"dataframe\">\n",
       "  <thead>\n",
       "    <tr style=\"text-align: right;\">\n",
       "      <th></th>\n",
       "      <th>person_id</th>\n",
       "      <th>id</th>\n",
       "      <th>name</th>\n",
       "      <th>character</th>\n",
       "      <th>role</th>\n",
       "    </tr>\n",
       "  </thead>\n",
       "  <tbody>\n",
       "    <tr>\n",
       "      <th>0</th>\n",
       "      <td>35549</td>\n",
       "      <td>tm89464</td>\n",
       "      <td>Maureen O'Hara</td>\n",
       "      <td>Doris Walker</td>\n",
       "      <td>ACTOR</td>\n",
       "    </tr>\n",
       "    <tr>\n",
       "      <th>1</th>\n",
       "      <td>57832</td>\n",
       "      <td>tm89464</td>\n",
       "      <td>John Payne</td>\n",
       "      <td>Fred Gailey</td>\n",
       "      <td>ACTOR</td>\n",
       "    </tr>\n",
       "    <tr>\n",
       "      <th>2</th>\n",
       "      <td>57833</td>\n",
       "      <td>tm89464</td>\n",
       "      <td>Edmund Gwenn</td>\n",
       "      <td>Kris Kringle</td>\n",
       "      <td>ACTOR</td>\n",
       "    </tr>\n",
       "    <tr>\n",
       "      <th>3</th>\n",
       "      <td>25096</td>\n",
       "      <td>tm89464</td>\n",
       "      <td>Natalie Wood</td>\n",
       "      <td>Susan Walker</td>\n",
       "      <td>ACTOR</td>\n",
       "    </tr>\n",
       "    <tr>\n",
       "      <th>4</th>\n",
       "      <td>27185</td>\n",
       "      <td>tm89464</td>\n",
       "      <td>Porter Hall</td>\n",
       "      <td>Granville Sawyer</td>\n",
       "      <td>ACTOR</td>\n",
       "    </tr>\n",
       "  </tbody>\n",
       "</table>\n",
       "</div>"
      ],
      "text/plain": [
       "   person_id       id            name         character   role\n",
       "0      35549  tm89464  Maureen O'Hara      Doris Walker  ACTOR\n",
       "1      57832  tm89464      John Payne       Fred Gailey  ACTOR\n",
       "2      57833  tm89464    Edmund Gwenn      Kris Kringle  ACTOR\n",
       "3      25096  tm89464    Natalie Wood      Susan Walker  ACTOR\n",
       "4      27185  tm89464     Porter Hall  Granville Sawyer  ACTOR"
      ]
     },
     "execution_count": 397,
     "metadata": {},
     "output_type": "execute_result"
    }
   ],
   "source": [
    "df0 = pd.read_csv(\"credits.csv\")\n",
    "df0.head()"
   ]
  },
  {
   "cell_type": "code",
   "execution_count": 398,
   "metadata": {},
   "outputs": [
    {
     "name": "stdout",
     "output_type": "stream",
     "text": [
      "<class 'pandas.core.frame.DataFrame'>\n",
      "RangeIndex: 30689 entries, 0 to 30688\n",
      "Data columns (total 5 columns):\n",
      " #   Column     Non-Null Count  Dtype \n",
      "---  ------     --------------  ----- \n",
      " 0   person_id  30689 non-null  int64 \n",
      " 1   id         30689 non-null  object\n",
      " 2   name       30689 non-null  object\n",
      " 3   character  28794 non-null  object\n",
      " 4   role       30689 non-null  object\n",
      "dtypes: int64(1), object(4)\n",
      "memory usage: 1.2+ MB\n"
     ]
    }
   ],
   "source": [
    "df0.info()"
   ]
  },
  {
   "cell_type": "code",
   "execution_count": 399,
   "metadata": {},
   "outputs": [],
   "source": [
    "#df = pd.concat([df00, df0], axis=1)\n",
    "#df.head()"
   ]
  },
  {
   "cell_type": "code",
   "execution_count": 400,
   "metadata": {},
   "outputs": [
    {
     "data": {
      "text/html": [
       "<div>\n",
       "<style scoped>\n",
       "    .dataframe tbody tr th:only-of-type {\n",
       "        vertical-align: middle;\n",
       "    }\n",
       "\n",
       "    .dataframe tbody tr th {\n",
       "        vertical-align: top;\n",
       "    }\n",
       "\n",
       "    .dataframe thead th {\n",
       "        text-align: right;\n",
       "    }\n",
       "</style>\n",
       "<table border=\"1\" class=\"dataframe\">\n",
       "  <thead>\n",
       "    <tr style=\"text-align: right;\">\n",
       "      <th></th>\n",
       "      <th>id</th>\n",
       "      <th>title</th>\n",
       "      <th>type</th>\n",
       "      <th>description</th>\n",
       "      <th>release_year</th>\n",
       "      <th>age_certification</th>\n",
       "      <th>runtime</th>\n",
       "      <th>genres</th>\n",
       "      <th>production_countries</th>\n",
       "      <th>seasons</th>\n",
       "      <th>imdb_id</th>\n",
       "      <th>imdb_score</th>\n",
       "      <th>imdb_votes</th>\n",
       "      <th>tmdb_popularity</th>\n",
       "      <th>tmdb_score</th>\n",
       "      <th>person_id</th>\n",
       "      <th>name</th>\n",
       "      <th>character</th>\n",
       "      <th>role</th>\n",
       "    </tr>\n",
       "  </thead>\n",
       "  <tbody>\n",
       "    <tr>\n",
       "      <th>0</th>\n",
       "      <td>tm89464</td>\n",
       "      <td>Miracle on 34th Street</td>\n",
       "      <td>MOVIE</td>\n",
       "      <td>Kris Kringle, seemingly the embodiment of Sant...</td>\n",
       "      <td>1947</td>\n",
       "      <td>G</td>\n",
       "      <td>96</td>\n",
       "      <td>['family', 'comedy', 'drama']</td>\n",
       "      <td>['US']</td>\n",
       "      <td>NaN</td>\n",
       "      <td>tt0039628</td>\n",
       "      <td>7.9</td>\n",
       "      <td>50969.0</td>\n",
       "      <td>23.515</td>\n",
       "      <td>7.388</td>\n",
       "      <td>35549</td>\n",
       "      <td>Maureen O'Hara</td>\n",
       "      <td>Doris Walker</td>\n",
       "      <td>ACTOR</td>\n",
       "    </tr>\n",
       "    <tr>\n",
       "      <th>1</th>\n",
       "      <td>tm89464</td>\n",
       "      <td>Miracle on 34th Street</td>\n",
       "      <td>MOVIE</td>\n",
       "      <td>Kris Kringle, seemingly the embodiment of Sant...</td>\n",
       "      <td>1947</td>\n",
       "      <td>G</td>\n",
       "      <td>96</td>\n",
       "      <td>['family', 'comedy', 'drama']</td>\n",
       "      <td>['US']</td>\n",
       "      <td>NaN</td>\n",
       "      <td>tt0039628</td>\n",
       "      <td>7.9</td>\n",
       "      <td>50969.0</td>\n",
       "      <td>23.515</td>\n",
       "      <td>7.388</td>\n",
       "      <td>57832</td>\n",
       "      <td>John Payne</td>\n",
       "      <td>Fred Gailey</td>\n",
       "      <td>ACTOR</td>\n",
       "    </tr>\n",
       "    <tr>\n",
       "      <th>2</th>\n",
       "      <td>tm89464</td>\n",
       "      <td>Miracle on 34th Street</td>\n",
       "      <td>MOVIE</td>\n",
       "      <td>Kris Kringle, seemingly the embodiment of Sant...</td>\n",
       "      <td>1947</td>\n",
       "      <td>G</td>\n",
       "      <td>96</td>\n",
       "      <td>['family', 'comedy', 'drama']</td>\n",
       "      <td>['US']</td>\n",
       "      <td>NaN</td>\n",
       "      <td>tt0039628</td>\n",
       "      <td>7.9</td>\n",
       "      <td>50969.0</td>\n",
       "      <td>23.515</td>\n",
       "      <td>7.388</td>\n",
       "      <td>57833</td>\n",
       "      <td>Edmund Gwenn</td>\n",
       "      <td>Kris Kringle</td>\n",
       "      <td>ACTOR</td>\n",
       "    </tr>\n",
       "    <tr>\n",
       "      <th>3</th>\n",
       "      <td>tm89464</td>\n",
       "      <td>Miracle on 34th Street</td>\n",
       "      <td>MOVIE</td>\n",
       "      <td>Kris Kringle, seemingly the embodiment of Sant...</td>\n",
       "      <td>1947</td>\n",
       "      <td>G</td>\n",
       "      <td>96</td>\n",
       "      <td>['family', 'comedy', 'drama']</td>\n",
       "      <td>['US']</td>\n",
       "      <td>NaN</td>\n",
       "      <td>tt0039628</td>\n",
       "      <td>7.9</td>\n",
       "      <td>50969.0</td>\n",
       "      <td>23.515</td>\n",
       "      <td>7.388</td>\n",
       "      <td>25096</td>\n",
       "      <td>Natalie Wood</td>\n",
       "      <td>Susan Walker</td>\n",
       "      <td>ACTOR</td>\n",
       "    </tr>\n",
       "    <tr>\n",
       "      <th>4</th>\n",
       "      <td>tm89464</td>\n",
       "      <td>Miracle on 34th Street</td>\n",
       "      <td>MOVIE</td>\n",
       "      <td>Kris Kringle, seemingly the embodiment of Sant...</td>\n",
       "      <td>1947</td>\n",
       "      <td>G</td>\n",
       "      <td>96</td>\n",
       "      <td>['family', 'comedy', 'drama']</td>\n",
       "      <td>['US']</td>\n",
       "      <td>NaN</td>\n",
       "      <td>tt0039628</td>\n",
       "      <td>7.9</td>\n",
       "      <td>50969.0</td>\n",
       "      <td>23.515</td>\n",
       "      <td>7.388</td>\n",
       "      <td>27185</td>\n",
       "      <td>Porter Hall</td>\n",
       "      <td>Granville Sawyer</td>\n",
       "      <td>ACTOR</td>\n",
       "    </tr>\n",
       "  </tbody>\n",
       "</table>\n",
       "</div>"
      ],
      "text/plain": [
       "        id                   title   type  \\\n",
       "0  tm89464  Miracle on 34th Street  MOVIE   \n",
       "1  tm89464  Miracle on 34th Street  MOVIE   \n",
       "2  tm89464  Miracle on 34th Street  MOVIE   \n",
       "3  tm89464  Miracle on 34th Street  MOVIE   \n",
       "4  tm89464  Miracle on 34th Street  MOVIE   \n",
       "\n",
       "                                         description  release_year  \\\n",
       "0  Kris Kringle, seemingly the embodiment of Sant...          1947   \n",
       "1  Kris Kringle, seemingly the embodiment of Sant...          1947   \n",
       "2  Kris Kringle, seemingly the embodiment of Sant...          1947   \n",
       "3  Kris Kringle, seemingly the embodiment of Sant...          1947   \n",
       "4  Kris Kringle, seemingly the embodiment of Sant...          1947   \n",
       "\n",
       "  age_certification  runtime                         genres  \\\n",
       "0                 G       96  ['family', 'comedy', 'drama']   \n",
       "1                 G       96  ['family', 'comedy', 'drama']   \n",
       "2                 G       96  ['family', 'comedy', 'drama']   \n",
       "3                 G       96  ['family', 'comedy', 'drama']   \n",
       "4                 G       96  ['family', 'comedy', 'drama']   \n",
       "\n",
       "  production_countries  seasons    imdb_id  imdb_score  imdb_votes  \\\n",
       "0               ['US']      NaN  tt0039628         7.9     50969.0   \n",
       "1               ['US']      NaN  tt0039628         7.9     50969.0   \n",
       "2               ['US']      NaN  tt0039628         7.9     50969.0   \n",
       "3               ['US']      NaN  tt0039628         7.9     50969.0   \n",
       "4               ['US']      NaN  tt0039628         7.9     50969.0   \n",
       "\n",
       "   tmdb_popularity  tmdb_score  person_id            name         character  \\\n",
       "0           23.515       7.388      35549  Maureen O'Hara      Doris Walker   \n",
       "1           23.515       7.388      57832      John Payne       Fred Gailey   \n",
       "2           23.515       7.388      57833    Edmund Gwenn      Kris Kringle   \n",
       "3           23.515       7.388      25096    Natalie Wood      Susan Walker   \n",
       "4           23.515       7.388      27185     Porter Hall  Granville Sawyer   \n",
       "\n",
       "    role  \n",
       "0  ACTOR  \n",
       "1  ACTOR  \n",
       "2  ACTOR  \n",
       "3  ACTOR  \n",
       "4  ACTOR  "
      ]
     },
     "execution_count": 400,
     "metadata": {},
     "output_type": "execute_result"
    }
   ],
   "source": [
    "df = df00.merge(df0, on=\"id\", how=\"inner\")\n",
    "df.head()"
   ]
  },
  {
   "cell_type": "code",
   "execution_count": 401,
   "metadata": {},
   "outputs": [
    {
     "name": "stdout",
     "output_type": "stream",
     "text": [
      "<class 'pandas.core.frame.DataFrame'>\n",
      "Int64Index: 30689 entries, 0 to 30688\n",
      "Data columns (total 19 columns):\n",
      " #   Column                Non-Null Count  Dtype  \n",
      "---  ------                --------------  -----  \n",
      " 0   id                    30689 non-null  object \n",
      " 1   title                 30689 non-null  object \n",
      " 2   type                  30689 non-null  object \n",
      " 3   description           30686 non-null  object \n",
      " 4   release_year          30689 non-null  int64  \n",
      " 5   age_certification     27498 non-null  object \n",
      " 6   runtime               30689 non-null  int64  \n",
      " 7   genres                30689 non-null  object \n",
      " 8   production_countries  30689 non-null  object \n",
      " 9   seasons               2379 non-null   float64\n",
      " 10  imdb_id               26878 non-null  object \n",
      " 11  imdb_score            26712 non-null  float64\n",
      " 12  imdb_votes            26581 non-null  float64\n",
      " 13  tmdb_popularity       30689 non-null  float64\n",
      " 14  tmdb_score            30407 non-null  float64\n",
      " 15  person_id             30689 non-null  int64  \n",
      " 16  name                  30689 non-null  object \n",
      " 17  character             28794 non-null  object \n",
      " 18  role                  30689 non-null  object \n",
      "dtypes: float64(5), int64(3), object(11)\n",
      "memory usage: 4.7+ MB\n"
     ]
    }
   ],
   "source": [
    "df.info()"
   ]
  },
  {
   "cell_type": "code",
   "execution_count": 402,
   "metadata": {},
   "outputs": [
    {
     "data": {
      "text/plain": [
       "(30689, 19)"
      ]
     },
     "execution_count": 402,
     "metadata": {},
     "output_type": "execute_result"
    }
   ],
   "source": [
    "df.shape"
   ]
  },
  {
   "cell_type": "code",
   "execution_count": 403,
   "metadata": {},
   "outputs": [],
   "source": [
    "#df.drop_duplicates(subset=\"title\", keep=\"first\", inplace=True)"
   ]
  },
  {
   "cell_type": "code",
   "execution_count": 404,
   "metadata": {},
   "outputs": [],
   "source": [
    "#df.info()"
   ]
  },
  {
   "cell_type": "code",
   "execution_count": 405,
   "metadata": {},
   "outputs": [
    {
     "data": {
      "text/plain": [
       "(30689, 19)"
      ]
     },
     "execution_count": 405,
     "metadata": {},
     "output_type": "execute_result"
    }
   ],
   "source": [
    "df.shape"
   ]
  },
  {
   "cell_type": "code",
   "execution_count": 406,
   "metadata": {},
   "outputs": [
    {
     "data": {
      "text/plain": [
       "id                          0\n",
       "title                       0\n",
       "type                        0\n",
       "description                 3\n",
       "release_year                0\n",
       "age_certification        3191\n",
       "runtime                     0\n",
       "genres                      0\n",
       "production_countries        0\n",
       "seasons                 28310\n",
       "imdb_id                  3811\n",
       "imdb_score               3977\n",
       "imdb_votes               4108\n",
       "tmdb_popularity             0\n",
       "tmdb_score                282\n",
       "person_id                   0\n",
       "name                        0\n",
       "character                1895\n",
       "role                        0\n",
       "dtype: int64"
      ]
     },
     "execution_count": 406,
     "metadata": {},
     "output_type": "execute_result"
    }
   ],
   "source": [
    "df.isnull().sum()"
   ]
  },
  {
   "cell_type": "code",
   "execution_count": 407,
   "metadata": {},
   "outputs": [
    {
     "data": {
      "text/plain": [
       "tm84668      245\n",
       "tm7          183\n",
       "tm202481     176\n",
       "tm3          175\n",
       "tm145073     163\n",
       "            ... \n",
       "ts57135        1\n",
       "ts272675       1\n",
       "tm318925       1\n",
       "tm348282       1\n",
       "tm1227149      1\n",
       "Name: id, Length: 1733, dtype: int64"
      ]
     },
     "execution_count": 407,
     "metadata": {},
     "output_type": "execute_result"
    }
   ],
   "source": [
    "df[\"id\"].value_counts(dropna=False)"
   ]
  },
  {
   "cell_type": "code",
   "execution_count": 408,
   "metadata": {},
   "outputs": [
    {
     "data": {
      "text/plain": [
       "Enchanted                       245\n",
       "Beauty and the Beast            189\n",
       "Star Wars: The Force Awakens    183\n",
       "Rogue One: A Star Wars Story    176\n",
       "Return of the Jedi              175\n",
       "                               ... \n",
       "Wild Yellowstone                  1\n",
       "Behind the Attraction             1\n",
       "Mega Hammerhead                   1\n",
       "Expedition Mars                   1\n",
       "Baby Sharks                       1\n",
       "Name: title, Length: 1695, dtype: int64"
      ]
     },
     "execution_count": 408,
     "metadata": {},
     "output_type": "execute_result"
    }
   ],
   "source": [
    "df[\"title\"].value_counts(dropna=False)"
   ]
  },
  {
   "cell_type": "code",
   "execution_count": 409,
   "metadata": {},
   "outputs": [
    {
     "data": {
      "text/plain": [
       "MOVIE    28310\n",
       "SHOW      2379\n",
       "Name: type, dtype: int64"
      ]
     },
     "execution_count": 409,
     "metadata": {},
     "output_type": "execute_result"
    }
   ],
   "source": [
    "df[\"type\"].value_counts(dropna=False)"
   ]
  },
  {
   "cell_type": "code",
   "execution_count": 410,
   "metadata": {},
   "outputs": [
    {
     "data": {
      "text/plain": [
       "The beautiful princess Giselle is banished by an evil queen from her magical, musical animated land and finds herself in the gritty reality of the streets of modern-day Manhattan. Shocked by this strange new environment that doesn't operate on a \"happily ever after\" basis, Giselle is now adrift in a chaotic world badly in need of enchantment. But when Giselle begins to fall in love with a charmingly flawed divorce lawyer who has come to her aid - even though she is already promised to a perfect fairy tale prince back home - she has to wonder: Can a storybook view of romance survive in the real world?                                                    245\n",
       "Thirty years after defeating the Galactic Empire, Han Solo and his allies face a new threat from the evil Kylo Ren and his army of Stormtroopers.                                                                                                                                                                                                                                                                                                                                                                                                                                                                                                                                  183\n",
       "A rogue band of resistance fighters unite for a mission to steal the Death Star plans and bring a new hope to the galaxy.                                                                                                                                                                                                                                                                                                                                                                                                                                                                                                                                                          176\n",
       "Luke Skywalker leads a mission to rescue his friend Han Solo from the clutches of Jabba the Hutt, while the Emperor seeks to destroy the Rebellion once and for all with a second dreaded Death Star.                                                                                                                                                                                                                                                                                                                                                                                                                                                                              175\n",
       "By the mid-1980s, the fabled animation studios of Walt Disney had fallen on hard times. The artists were polarized between newcomers hungry to innovate and old timers not yet ready to relinquish control. These conditions produced a series of box-office flops and pessimistic forecasts: maybe the best days of animation were over. Maybe the public didn't care. Only a miracle or a magic spell could produce a happy ending. Waking Sleeping Beauty is no fairy tale. It's the true story of how Disney regained its magic with a staggering output of hits - \"Little Mermaid,\" \"Beauty and the Beast ,\" \"Aladdin,\" \"The Lion King,\" and more - over a 10-year period.    163\n",
       "                                                                                                                                                                                                                                                                                                                                                                                                                                                                                                                                                                                                                                                                                  ... \n",
       "One famous day. Five heroes. Five key turning points that changed the course of World War Two during the D Day landings, told through the eyes of the people who made a difference. Using rarely seen archive, dramatic reconstruction and written accounts from eye witnesses and personal testimony from our five heroes, this is D Day as never seen before.                                                                                                                                                                                                                                                                                                                      1\n",
       "Using the very latest in drone and aerial photographic technology, tour across countries and their seasons, getting a unique view from above.                                                                                                                                                                                                                                                                                                                                                                                                                                                                                                                                        1\n",
       "An animated short based on Hans Christian Andersen's tale about a poor young girl with a burning desire to find comfort and happiness in her life. Desperate to keep warm, the girl lights the matches she sells, and envisions a very different life for herself in the fiery flames filled with images of loving relatives, bountiful food, and a place to call home.                                                                                                                                                                                                                                                                                                              1\n",
       "Documentary series in which Goldblum pulls back the curtain on a seemingly familiar object to reveal a world of astonishing connections, fascinating science, and a whole lot of big ideas.                                                                                                                                                                                                                                                                                                                                                                                                                                                                                          1\n",
       "Even the biggest, fastest and fiercest predators start as babies. Baby sharks are cute, but they need to grow up fast because out of more than 500 species of sharks, not one parent sticks around to help raise them. Sharks are found in every ocean across the planet and have evolved in extraordinarily different ways to carry their young and give birth and for baby sharks to thrive.                                                                                                                                                                                                                                                                                       1\n",
       "Name: description, Length: 1731, dtype: int64"
      ]
     },
     "execution_count": 410,
     "metadata": {},
     "output_type": "execute_result"
    }
   ],
   "source": [
    "df[\"description\"].value_counts(dropna=False)"
   ]
  },
  {
   "cell_type": "code",
   "execution_count": 411,
   "metadata": {},
   "outputs": [],
   "source": [
    "df = df.dropna(axis=0, subset=[\"description\"])\n"
   ]
  },
  {
   "cell_type": "code",
   "execution_count": 412,
   "metadata": {},
   "outputs": [
    {
     "data": {
      "text/plain": [
       "2022    2087\n",
       "2021    1504\n",
       "2016    1347\n",
       "2019    1345\n",
       "2017    1316\n",
       "        ... \n",
       "1943      12\n",
       "1954       7\n",
       "1946       5\n",
       "1928       2\n",
       "1944       2\n",
       "Name: release_year, Length: 93, dtype: int64"
      ]
     },
     "execution_count": 412,
     "metadata": {},
     "output_type": "execute_result"
    }
   ],
   "source": [
    "df[\"release_year\"].value_counts(dropna=False)"
   ]
  },
  {
   "cell_type": "code",
   "execution_count": 413,
   "metadata": {},
   "outputs": [
    {
     "data": {
      "text/plain": [
       "PG          11439\n",
       "G            8530\n",
       "PG-13        5240\n",
       "NaN          3188\n",
       "TV-G          452\n",
       "TV-Y7         447\n",
       "TV-PG         396\n",
       "TV-14         387\n",
       "TV-Y          291\n",
       "R             228\n",
       "TV-MA          59\n",
       "TV-Y7-FV       29\n",
       "Name: age_certification, dtype: int64"
      ]
     },
     "execution_count": 413,
     "metadata": {},
     "output_type": "execute_result"
    }
   ],
   "source": [
    "df[\"age_certification\"].value_counts(dropna=False)"
   ]
  },
  {
   "cell_type": "code",
   "execution_count": 414,
   "metadata": {},
   "outputs": [],
   "source": [
    "df[\"age_certification\"] =  df[\"age_certification\"].fillna(\"pad\")"
   ]
  },
  {
   "cell_type": "code",
   "execution_count": 415,
   "metadata": {},
   "outputs": [
    {
     "data": {
      "text/plain": [
       "88     946\n",
       "100    767\n",
       "93     755\n",
       "105    710\n",
       "102    683\n",
       "      ... \n",
       "59       9\n",
       "57       8\n",
       "36       7\n",
       "13       6\n",
       "182      1\n",
       "Name: runtime, Length: 159, dtype: int64"
      ]
     },
     "execution_count": 415,
     "metadata": {},
     "output_type": "execute_result"
    }
   ],
   "source": [
    "df[\"runtime\"].value_counts(dropna=False)"
   ]
  },
  {
   "cell_type": "code",
   "execution_count": 416,
   "metadata": {},
   "outputs": [
    {
     "data": {
      "text/plain": [
       "['documentation']                                    1775\n",
       "['comedy']                                           1066\n",
       "['action', 'scifi', 'fantasy']                       1001\n",
       "['scifi', 'action']                                   850\n",
       "['comedy', 'family']                                  677\n",
       "                                                     ... \n",
       "['documentation', 'history', 'crime', 'european']       1\n",
       "['reality', 'scifi', 'documentation']                   1\n",
       "['action', 'documentation']                             1\n",
       "['action', 'scifi', 'fantasy', 'animation']             1\n",
       "['reality', 'documentation', 'action']                  1\n",
       "Name: genres, Length: 700, dtype: int64"
      ]
     },
     "execution_count": 416,
     "metadata": {},
     "output_type": "execute_result"
    }
   ],
   "source": [
    "df[\"genres\"].value_counts(dropna=False)"
   ]
  },
  {
   "cell_type": "code",
   "execution_count": 417,
   "metadata": {},
   "outputs": [],
   "source": [
    "df[\"genres\"] = df[\"genres\"].apply(lambda x : x.strip(\"[', '\"))\n",
    "\n",
    "\n",
    "\n",
    "#df[\"genres\"] = df[\"genres\"].apply(lambda x : x.strip(\"[\"))\n",
    "#df[\"genres\"] = df[\"genres\"].apply(lambda x : x.strip(\"' '\"))"
   ]
  },
  {
   "cell_type": "code",
   "execution_count": 418,
   "metadata": {},
   "outputs": [],
   "source": [
    "#df[\"genres\"] = df[\"genres\"].apply(lambda x : x.strip([0]))"
   ]
  },
  {
   "cell_type": "code",
   "execution_count": 419,
   "metadata": {},
   "outputs": [
    {
     "data": {
      "text/plain": [
       "documentation']                                    1775\n",
       "comedy']                                           1066\n",
       "action', 'scifi', 'fantasy']                       1001\n",
       "scifi', 'action']                                   850\n",
       "comedy', 'family']                                  677\n",
       "                                                   ... \n",
       "documentation', 'history', 'crime', 'european']       1\n",
       "reality', 'scifi', 'documentation']                   1\n",
       "action', 'documentation']                             1\n",
       "action', 'scifi', 'fantasy', 'animation']             1\n",
       "reality', 'documentation', 'action']                  1\n",
       "Name: genres, Length: 700, dtype: int64"
      ]
     },
     "execution_count": 419,
     "metadata": {},
     "output_type": "execute_result"
    }
   ],
   "source": [
    "df[\"genres\"].value_counts(dropna=False)"
   ]
  },
  {
   "cell_type": "code",
   "execution_count": 420,
   "metadata": {},
   "outputs": [],
   "source": [
    "df[\"genres\"] = df[\"genres\"].apply(lambda x : x.strip(\"[1]\"))\n"
   ]
  },
  {
   "cell_type": "code",
   "execution_count": 421,
   "metadata": {},
   "outputs": [],
   "source": [
    "df[\"genres\"] = df[\"genres\"].apply(lambda x : x.strip(\"[2]\"))\n"
   ]
  },
  {
   "cell_type": "code",
   "execution_count": 422,
   "metadata": {},
   "outputs": [],
   "source": [
    "df[\"genres\"] = df[\"genres\"].apply(lambda x : x.strip(\"[3]\"))"
   ]
  },
  {
   "cell_type": "code",
   "execution_count": 423,
   "metadata": {},
   "outputs": [
    {
     "data": {
      "text/plain": [
       "documentation'                                    1775\n",
       "comedy'                                           1066\n",
       "action', 'scifi', 'fantasy'                       1001\n",
       "scifi', 'action'                                   850\n",
       "comedy', 'family'                                  677\n",
       "                                                  ... \n",
       "documentation', 'history', 'crime', 'european'       1\n",
       "reality', 'scifi', 'documentation'                   1\n",
       "action', 'documentation'                             1\n",
       "action', 'scifi', 'fantasy', 'animation'             1\n",
       "reality', 'documentation', 'action'                  1\n",
       "Name: genres, Length: 700, dtype: int64"
      ]
     },
     "execution_count": 423,
     "metadata": {},
     "output_type": "execute_result"
    }
   ],
   "source": [
    "df[\"genres\"].value_counts(dropna=False)"
   ]
  },
  {
   "cell_type": "code",
   "execution_count": 424,
   "metadata": {},
   "outputs": [
    {
     "data": {
      "text/plain": [
       "['US']          26038\n",
       "['US', 'CA']      627\n",
       "['US', 'GB']      577\n",
       "['GB', 'US']      547\n",
       "['CA', 'US']      507\n",
       "                ...  \n",
       "['US', 'GT']        1\n",
       "['AE']              1\n",
       "['AT']              1\n",
       "['ZA']              1\n",
       "['NZ']              1\n",
       "Name: production_countries, Length: 84, dtype: int64"
      ]
     },
     "execution_count": 424,
     "metadata": {},
     "output_type": "execute_result"
    }
   ],
   "source": [
    "df[\"production_countries\"].value_counts(dropna=False)"
   ]
  },
  {
   "cell_type": "code",
   "execution_count": 425,
   "metadata": {},
   "outputs": [],
   "source": [
    "df[\"production_countries\"] = df[\"production_countries\"].apply(lambda x : x.strip(\"[', ']\"))"
   ]
  },
  {
   "cell_type": "code",
   "execution_count": 426,
   "metadata": {},
   "outputs": [
    {
     "data": {
      "text/plain": [
       "US          26038\n",
       "US', 'CA      627\n",
       "US', 'GB      577\n",
       "GB', 'US      547\n",
       "CA', 'US      507\n",
       "            ...  \n",
       "US', 'GT        1\n",
       "AE              1\n",
       "AT              1\n",
       "ZA              1\n",
       "NZ              1\n",
       "Name: production_countries, Length: 84, dtype: int64"
      ]
     },
     "execution_count": 426,
     "metadata": {},
     "output_type": "execute_result"
    }
   ],
   "source": [
    "df[\"production_countries\"].value_counts(dropna=False)"
   ]
  },
  {
   "cell_type": "code",
   "execution_count": 427,
   "metadata": {},
   "outputs": [
    {
     "data": {
      "text/plain": [
       "NaN     28308\n",
       "1.0       827\n",
       "2.0       564\n",
       "3.0       506\n",
       "4.0       180\n",
       "5.0       102\n",
       "6.0        70\n",
       "7.0        46\n",
       "8.0        46\n",
       "36.0        6\n",
       "32.0        6\n",
       "20.0        6\n",
       "9.0         6\n",
       "10.0        5\n",
       "14.0        4\n",
       "22.0        2\n",
       "34.0        1\n",
       "12.0        1\n",
       "Name: seasons, dtype: int64"
      ]
     },
     "execution_count": 427,
     "metadata": {},
     "output_type": "execute_result"
    }
   ],
   "source": [
    "df[\"seasons\"].value_counts(dropna=False)"
   ]
  },
  {
   "cell_type": "code",
   "execution_count": 428,
   "metadata": {},
   "outputs": [],
   "source": [
    "df = df.dropna(axis=0, subset=['seasons'])"
   ]
  },
  {
   "cell_type": "code",
   "execution_count": 429,
   "metadata": {},
   "outputs": [
    {
     "data": {
      "text/plain": [
       "NaN           92\n",
       "tt5189554     29\n",
       "tt11950984    27\n",
       "tt0088515     26\n",
       "tt1626038     24\n",
       "              ..\n",
       "tt12162902     1\n",
       "tt12362380     1\n",
       "tt9165706      1\n",
       "tt11097576     1\n",
       "tt15257974     1\n",
       "Name: imdb_id, Length: 421, dtype: int64"
      ]
     },
     "execution_count": 429,
     "metadata": {},
     "output_type": "execute_result"
    }
   ],
   "source": [
    "df[\"imdb_id\"].value_counts(dropna=False)"
   ]
  },
  {
   "cell_type": "code",
   "execution_count": 430,
   "metadata": {},
   "outputs": [],
   "source": [
    "df = df.dropna(axis=0, subset=['imdb_id'])"
   ]
  },
  {
   "cell_type": "code",
   "execution_count": 431,
   "metadata": {},
   "outputs": [
    {
     "data": {
      "text/plain": [
       "6.3    128\n",
       "6.5    126\n",
       "8.3     94\n",
       "6.6     93\n",
       "6.8     93\n",
       "7.4     86\n",
       "6.0     85\n",
       "6.7     82\n",
       "7.5     77\n",
       "8.4     71\n",
       "7.6     71\n",
       "6.9     70\n",
       "8.0     68\n",
       "6.4     66\n",
       "7.9     62\n",
       "8.2     62\n",
       "7.0     60\n",
       "7.3     58\n",
       "7.1     58\n",
       "5.6     56\n",
       "7.7     54\n",
       "5.2     50\n",
       "5.8     47\n",
       "6.1     46\n",
       "8.1     46\n",
       "7.8     44\n",
       "6.2     34\n",
       "7.2     32\n",
       "5.5     32\n",
       "5.3     30\n",
       "5.9     27\n",
       "9.0     27\n",
       "5.1     26\n",
       "5.7     26\n",
       "4.6     24\n",
       "4.9     19\n",
       "4.8     19\n",
       "8.5     17\n",
       "8.6     14\n",
       "8.8     11\n",
       "NaN     11\n",
       "5.4     10\n",
       "8.7     10\n",
       "3.9      9\n",
       "4.0      8\n",
       "2.8      7\n",
       "3.2      6\n",
       "3.8      6\n",
       "4.2      5\n",
       "4.1      5\n",
       "4.5      5\n",
       "5.0      5\n",
       "9.5      2\n",
       "4.4      2\n",
       "3.4      2\n",
       "4.3      1\n",
       "9.3      1\n",
       "Name: imdb_score, dtype: int64"
      ]
     },
     "execution_count": 431,
     "metadata": {},
     "output_type": "execute_result"
    }
   ],
   "source": [
    "df[\"imdb_score\"].value_counts(dropna=False)"
   ]
  },
  {
   "cell_type": "code",
   "execution_count": 432,
   "metadata": {},
   "outputs": [],
   "source": [
    "df = df.dropna(axis=0, subset=['imdb_score'])"
   ]
  },
  {
   "cell_type": "code",
   "execution_count": 433,
   "metadata": {},
   "outputs": [
    {
     "data": {
      "text/plain": [
       "1538.0     29\n",
       "24054.0    27\n",
       "2066.0     26\n",
       "15398.0    24\n",
       "3593.0     22\n",
       "           ..\n",
       "446.0       1\n",
       "52.0        1\n",
       "426.0       1\n",
       "272.0       1\n",
       "58.0        1\n",
       "Name: imdb_votes, Length: 373, dtype: int64"
      ]
     },
     "execution_count": 433,
     "metadata": {},
     "output_type": "execute_result"
    }
   ],
   "source": [
    "df[\"imdb_votes\"].value_counts(dropna=False)"
   ]
  },
  {
   "cell_type": "code",
   "execution_count": 434,
   "metadata": {},
   "outputs": [],
   "source": [
    "df = df.dropna(axis=0, subset=['imdb_votes'])"
   ]
  },
  {
   "cell_type": "code",
   "execution_count": 435,
   "metadata": {},
   "outputs": [
    {
     "data": {
      "text/plain": [
       "1538.0     29\n",
       "24054.0    27\n",
       "2066.0     26\n",
       "15398.0    24\n",
       "3593.0     22\n",
       "           ..\n",
       "446.0       1\n",
       "52.0        1\n",
       "426.0       1\n",
       "272.0       1\n",
       "58.0        1\n",
       "Name: imdb_votes, Length: 373, dtype: int64"
      ]
     },
     "execution_count": 435,
     "metadata": {},
     "output_type": "execute_result"
    }
   ],
   "source": [
    "df[\"imdb_votes\"].value_counts(dropna=False)"
   ]
  },
  {
   "cell_type": "code",
   "execution_count": 436,
   "metadata": {},
   "outputs": [
    {
     "data": {
      "text/plain": [
       "159.736    29\n",
       "11.192     27\n",
       "9.327      26\n",
       "66.274     24\n",
       "21.875     23\n",
       "           ..\n",
       "1.849       1\n",
       "15.797      1\n",
       "5.859       1\n",
       "1.575       1\n",
       "3.733       1\n",
       "Name: tmdb_popularity, Length: 399, dtype: int64"
      ]
     },
     "execution_count": 436,
     "metadata": {},
     "output_type": "execute_result"
    }
   ],
   "source": [
    "df[\"tmdb_popularity\"].value_counts(dropna=False)"
   ]
  },
  {
   "cell_type": "code",
   "execution_count": 437,
   "metadata": {},
   "outputs": [
    {
     "data": {
      "text/plain": [
       "6.900    72\n",
       "7.400    69\n",
       "7.300    69\n",
       "7.000    68\n",
       "7.800    63\n",
       "         ..\n",
       "8.262     1\n",
       "3.000     1\n",
       "7.303     1\n",
       "9.300     1\n",
       "8.599     1\n",
       "Name: tmdb_score, Length: 183, dtype: int64"
      ]
     },
     "execution_count": 437,
     "metadata": {},
     "output_type": "execute_result"
    }
   ],
   "source": [
    "df[\"tmdb_score\"].value_counts(dropna=False)"
   ]
  },
  {
   "cell_type": "code",
   "execution_count": 438,
   "metadata": {},
   "outputs": [
    {
     "data": {
      "text/plain": [
       "528        13\n",
       "18723      10\n",
       "5470       10\n",
       "19829       9\n",
       "50245       8\n",
       "           ..\n",
       "598240      1\n",
       "1079587     1\n",
       "856372      1\n",
       "1622608     1\n",
       "1803879     1\n",
       "Name: person_id, Length: 1888, dtype: int64"
      ]
     },
     "execution_count": 438,
     "metadata": {},
     "output_type": "execute_result"
    }
   ],
   "source": [
    "df[\"person_id\"].value_counts(dropna=False)"
   ]
  },
  {
   "cell_type": "code",
   "execution_count": 439,
   "metadata": {},
   "outputs": [
    {
     "data": {
      "text/plain": [
       "Jim Cummings         13\n",
       "Dee Bradley Baker    10\n",
       "Bill Farmer          10\n",
       "Corey Burton          9\n",
       "Tony Anselmo          8\n",
       "                     ..\n",
       "Berlin Gross          1\n",
       "Katlyn Nichol         1\n",
       "Peter MacKenzie       1\n",
       "Jeff Meacham          1\n",
       "Pyper Braun           1\n",
       "Name: name, Length: 1885, dtype: int64"
      ]
     },
     "execution_count": 439,
     "metadata": {},
     "output_type": "execute_result"
    }
   ],
   "source": [
    "df[\"name\"].value_counts(dropna=False)"
   ]
  },
  {
   "cell_type": "code",
   "execution_count": 440,
   "metadata": {},
   "outputs": [
    {
     "data": {
      "text/plain": [
       "NaN                       231\n",
       "Self                       73\n",
       "Narrator                   29\n",
       "Self (archive footage)     27\n",
       "Himself                    21\n",
       "                         ... \n",
       "Captain Hook (voice)        1\n",
       "Mr. Smee (voice)            1\n",
       "Skully (voice)              1\n",
       "Maxi                        1\n",
       "Bitsy (voice)               1\n",
       "Name: character, Length: 1690, dtype: int64"
      ]
     },
     "execution_count": 440,
     "metadata": {},
     "output_type": "execute_result"
    }
   ],
   "source": [
    "df[\"character\"].value_counts(dropna=False)"
   ]
  },
  {
   "cell_type": "code",
   "execution_count": 441,
   "metadata": {},
   "outputs": [],
   "source": [
    "df = df.dropna(axis=0, subset=['character'])"
   ]
  },
  {
   "cell_type": "code",
   "execution_count": 442,
   "metadata": {},
   "outputs": [
    {
     "data": {
      "text/plain": [
       "ACTOR    2044\n",
       "Name: role, dtype: int64"
      ]
     },
     "execution_count": 442,
     "metadata": {},
     "output_type": "execute_result"
    }
   ],
   "source": [
    "df[\"role\"].value_counts(dropna=False)"
   ]
  },
  {
   "cell_type": "code",
   "execution_count": 443,
   "metadata": {},
   "outputs": [
    {
     "name": "stdout",
     "output_type": "stream",
     "text": [
      "<class 'pandas.core.frame.DataFrame'>\n",
      "Int64Index: 2044 entries, 865 to 30685\n",
      "Data columns (total 19 columns):\n",
      " #   Column                Non-Null Count  Dtype  \n",
      "---  ------                --------------  -----  \n",
      " 0   id                    2044 non-null   object \n",
      " 1   title                 2044 non-null   object \n",
      " 2   type                  2044 non-null   object \n",
      " 3   description           2044 non-null   object \n",
      " 4   release_year          2044 non-null   int64  \n",
      " 5   age_certification     2044 non-null   object \n",
      " 6   runtime               2044 non-null   int64  \n",
      " 7   genres                2044 non-null   object \n",
      " 8   production_countries  2044 non-null   object \n",
      " 9   seasons               2044 non-null   float64\n",
      " 10  imdb_id               2044 non-null   object \n",
      " 11  imdb_score            2044 non-null   float64\n",
      " 12  imdb_votes            2044 non-null   float64\n",
      " 13  tmdb_popularity       2044 non-null   float64\n",
      " 14  tmdb_score            2008 non-null   float64\n",
      " 15  person_id             2044 non-null   int64  \n",
      " 16  name                  2044 non-null   object \n",
      " 17  character             2044 non-null   object \n",
      " 18  role                  2044 non-null   object \n",
      "dtypes: float64(5), int64(3), object(11)\n",
      "memory usage: 319.4+ KB\n"
     ]
    }
   ],
   "source": [
    "df.info()"
   ]
  }
 ],
 "metadata": {
  "kernelspec": {
   "display_name": "pythonProject",
   "language": "python",
   "name": "python3"
  },
  "language_info": {
   "codemirror_mode": {
    "name": "ipython",
    "version": 3
   },
   "file_extension": ".py",
   "mimetype": "text/x-python",
   "name": "python",
   "nbconvert_exporter": "python",
   "pygments_lexer": "ipython3",
   "version": "3.9.12"
  },
  "orig_nbformat": 4
 },
 "nbformat": 4,
 "nbformat_minor": 2
}
